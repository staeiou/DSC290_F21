{
 "cells": [
  {
   "cell_type": "code",
   "execution_count": 1,
   "id": "73905b50",
   "metadata": {},
   "outputs": [
    {
     "name": "stdout",
     "output_type": "stream",
     "text": [
      "Defaulting to user installation because normal site-packages is not writeable\n",
      "Requirement already satisfied: selenium in /home/sgeiger/.local/lib/python3.9/site-packages (4.0.0)\n",
      "Requirement already satisfied: trio~=0.17 in /home/sgeiger/.local/lib/python3.9/site-packages (from selenium) (0.19.0)\n",
      "Requirement already satisfied: urllib3[secure]~=1.26 in /opt/conda/lib/python3.9/site-packages (from selenium) (1.26.6)\n",
      "Requirement already satisfied: trio-websocket~=0.9 in /home/sgeiger/.local/lib/python3.9/site-packages (from selenium) (0.9.2)\n",
      "Requirement already satisfied: attrs>=19.2.0 in /opt/conda/lib/python3.9/site-packages (from trio~=0.17->selenium) (21.2.0)\n",
      "Requirement already satisfied: idna in /opt/conda/lib/python3.9/site-packages (from trio~=0.17->selenium) (3.1)\n",
      "Requirement already satisfied: sortedcontainers in /opt/conda/lib/python3.9/site-packages (from trio~=0.17->selenium) (2.4.0)\n",
      "Requirement already satisfied: async-generator>=1.9 in /opt/conda/lib/python3.9/site-packages (from trio~=0.17->selenium) (1.10)\n",
      "Requirement already satisfied: sniffio in /opt/conda/lib/python3.9/site-packages (from trio~=0.17->selenium) (1.2.0)\n",
      "Requirement already satisfied: outcome in /home/sgeiger/.local/lib/python3.9/site-packages (from trio~=0.17->selenium) (1.1.0)\n",
      "Requirement already satisfied: wsproto>=0.14 in /home/sgeiger/.local/lib/python3.9/site-packages (from trio-websocket~=0.9->selenium) (1.0.0)\n",
      "Requirement already satisfied: pyOpenSSL>=0.14 in /opt/conda/lib/python3.9/site-packages (from urllib3[secure]~=1.26->selenium) (20.0.1)\n",
      "Requirement already satisfied: certifi in /opt/conda/lib/python3.9/site-packages (from urllib3[secure]~=1.26->selenium) (2021.10.8)\n",
      "Requirement already satisfied: cryptography>=1.3.4 in /opt/conda/lib/python3.9/site-packages (from urllib3[secure]~=1.26->selenium) (3.4.7)\n",
      "Requirement already satisfied: cffi>=1.12 in /opt/conda/lib/python3.9/site-packages (from cryptography>=1.3.4->urllib3[secure]~=1.26->selenium) (1.14.6)\n",
      "Requirement already satisfied: pycparser in /opt/conda/lib/python3.9/site-packages (from cffi>=1.12->cryptography>=1.3.4->urllib3[secure]~=1.26->selenium) (2.20)\n",
      "Requirement already satisfied: six>=1.5.2 in /home/sgeiger/.local/lib/python3.9/site-packages (from pyOpenSSL>=0.14->urllib3[secure]~=1.26->selenium) (1.15.0)\n",
      "Requirement already satisfied: h11<1,>=0.9.0 in /home/sgeiger/.local/lib/python3.9/site-packages (from wsproto>=0.14->trio-websocket~=0.9->selenium) (0.12.0)\n"
     ]
    }
   ],
   "source": [
    "!pip install selenium"
   ]
  },
  {
   "cell_type": "code",
   "execution_count": 1,
   "id": "170e4b3c",
   "metadata": {},
   "outputs": [],
   "source": [
    "from selenium import webdriver\n",
    "from selenium.webdriver.common.keys import Keys\n",
    "from selenium.webdriver.common.desired_capabilities import DesiredCapabilities\n",
    "from selenium.webdriver.common.action_chains import ActionChains\n",
    "\n",
    "import random\n",
    "import time\n",
    "import glob\n",
    "from PIL import Image\n",
    "\n",
    "import os\n",
    "import sys\n",
    "\n",
    "key = ''"
   ]
  },
  {
   "cell_type": "code",
   "execution_count": null,
   "id": "c832e050",
   "metadata": {},
   "outputs": [],
   "source": [
    "!rm -rf screenshot-temp\n",
    "!mkdir screenshot-temp"
   ]
  },
  {
   "cell_type": "code",
   "execution_count": null,
   "id": "96b1c1cc",
   "metadata": {},
   "outputs": [],
   "source": [
    "def simulate_typing(text,element,delay=.1,driver=None):\n",
    "    element.send_keys(\" \") # not sure why first character doesn't get sent\n",
    "    count=0\n",
    "    for letter in text:\n",
    "        element.send_keys(letter)\n",
    "        time.sleep(delay*random.uniform(.75, 1.25))\n",
    "        if driver:\n",
    "            driver.save_screenshot('screenshot-temp/suggestion-' + str(count).zfill(2) + '.png')\n",
    "        count += 1\n",
    "        \n",
    "    frames = []\n",
    "    imgs = glob.glob(\"screenshot-temp/*.png\")\n",
    "    imgs.sort()\n",
    "    for i in imgs:\n",
    "        new_frame = Image.open(i)\n",
    "        frames.append(new_frame)\n",
    "\n",
    "    # Save into a GIF file that loops forever\n",
    "    frames[0].save('typing.gif', format='GIF',\n",
    "           append_images=frames[1:],\n",
    "           save_all=True,\n",
    "           duration=300, loop=0)"
   ]
  },
  {
   "cell_type": "code",
   "execution_count": null,
   "id": "12f3f917",
   "metadata": {},
   "outputs": [],
   "source": [
    "try:\n",
    "\n",
    "    chrome_options = webdriver.ChromeOptions()\n",
    "\n",
    "    chrome_options.set_capability('browserless.token', key)\n",
    "    chrome_options.add_argument(\"--no-sandbox\")\n",
    "    chrome_options.add_argument(\"--headless\")\n",
    "    chrome_options.add_argument(\"--window-size=1200,900\")\n",
    "\n",
    "\n",
    "\n",
    "    driver = webdriver.Remote(\n",
    "      command_executor='https://chrome.browserless.io/webdriver',\n",
    "      desired_capabilities=chrome_options.to_capabilities(),\n",
    "\n",
    "    )\n",
    "\n",
    "    driver.get(\"https://www.google.com/\")\n",
    "    #driver.maximize_window()\n",
    "\n",
    "    action = action = ActionChains(driver)\n",
    " \n",
    "\n",
    "    search_bar = driver.find_element_by_name(\"q\")\n",
    "    #search_bar.send_keys(\"Latonya Evans \");\n",
    "    simulate_typing(\"Jane Evans \", search_bar, 0.1, driver)\n",
    "\n",
    "    driver.save_screenshot('screenshot.png')\n",
    "    search_bar.send_keys(Keys.ENTER)\n",
    "\n",
    "    #time.sleep(1)\n",
    "\n",
    "    driver.save_screenshot('screenshot-results-1.png')\n",
    "    \n",
    "    for x in range(0,1):\n",
    "        action.send_keys(Keys.PAGE_DOWN).perform()\n",
    "        time.sleep(0.1)\n",
    "    \n",
    "    driver.save_screenshot('screenshot-results-2.png')\n",
    "\n",
    "\n",
    "    with open(\"page_source.html\", \"w\") as f:\n",
    "        f.write(driver.page_source)\n",
    "\n",
    "        \n",
    "    driver.quit()\n",
    "\n",
    "except Exception as e:\n",
    "    driver.quit()\n",
    "    \n",
    "    print(e)\n",
    "\n",
    "\n"
   ]
  },
  {
   "cell_type": "code",
   "execution_count": null,
   "id": "fca2642d",
   "metadata": {},
   "outputs": [],
   "source": []
  },
  {
   "cell_type": "code",
   "execution_count": null,
   "id": "6aefb73c",
   "metadata": {},
   "outputs": [],
   "source": [
    "%%bash\n",
    "curl --output lol.pdf -X POST \\\n",
    "  'https://chrome.browserless.io/pdf?token=' \\\n",
    "  -H 'Cache-Control: no-cache' \\\n",
    "  -H 'Content-Type: application/json' \\\n",
    "  -d '{\n",
    "  \"url\": \"https://bot.sannysoft.com/\",\n",
    "  \"options\": {\n",
    "    \"displayHeaderFooter\": true,\n",
    "    \"printBackground\": true,\n",
    "    \"format\": \"A1\"\n",
    "  }\n",
    "}'"
   ]
  },
  {
   "cell_type": "code",
   "execution_count": null,
   "id": "ef672590",
   "metadata": {},
   "outputs": [],
   "source": [
    "%%bash\n",
    "curl -X POST \\\n",
    "  'https://chrome.browserless.io/screenshot?token=' \\\n",
    "  -H 'Cache-Control: no-cache' \\\n",
    "  -H 'Content-Type: application/json' \\\n",
    "  -d '{\n",
    "  \"url\": \"https://bot.sannysoft.com/\",\n",
    "  \"options\": {\n",
    "    \"fullPage\": true,\n",
    "    \"type\": \"jpeg\",\n",
    "    \"quality\": 75\n",
    "  }\n",
    "}'"
   ]
  },
  {
   "cell_type": "code",
   "execution_count": null,
   "id": "4a084eee",
   "metadata": {},
   "outputs": [],
   "source": []
  }
 ],
 "metadata": {
  "kernelspec": {
   "display_name": "Python 3 (ipykernel)",
   "language": "python",
   "name": "python3"
  },
  "language_info": {
   "codemirror_mode": {
    "name": "ipython",
    "version": 3
   },
   "file_extension": ".py",
   "mimetype": "text/x-python",
   "name": "python",
   "nbconvert_exporter": "python",
   "pygments_lexer": "ipython3",
   "version": "3.9.5"
  }
 },
 "nbformat": 4,
 "nbformat_minor": 5
}
